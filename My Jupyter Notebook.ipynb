{
  "metadata": {
    "kernelspec": {
      "name": "python",
      "display_name": "Python (Pyodide)",
      "language": "python"
    },
    "language_info": {
      "codemirror_mode": {
        "name": "python",
        "version": 3
      },
      "file_extension": ".py",
      "mimetype": "text/x-python",
      "name": "python",
      "nbconvert_exporter": "python",
      "pygments_lexer": "ipython3",
      "version": "3.8"
    }
  },
  "nbformat_minor": 4,
  "nbformat": 4,
  "cells": [
    {
      "cell_type": "markdown",
      "source": "My Jupyter Notebook",
      "metadata": {}
    },
    {
      "cell_type": "markdown",
      "source": "In this document I will present my final project of the IBM course, \"Tools for Data Science ",
      "metadata": {}
    },
    {
      "cell_type": "markdown",
      "source": "The data science languages are Python, R, SQL (Structured Query Language), Scala, JAVA, C and C++.",
      "metadata": {}
    },
    {
      "cell_type": "markdown",
      "source": "Some data libraries used in Python are TensorFlow, NumPy, SciPy, Pandas, Matplotlib, and SciKit-Learn.",
      "metadata": {}
    },
    {
      "cell_type": "markdown",
      "source": "Data science tools, based on Python, are Pandas, SeaBorn, and Scikit-Learn. Open source tools are Pytorch, MLFlow, and Jupyter Notebook, and if we consider AI, we have Chat GPT.",
      "metadata": {}
    },
    {
      "cell_type": "markdown",
      "source": "Some arithmetic operations are addition, subtraction, multiplication and division. These are examples of addition and multiplication.",
      "metadata": {}
    },
    {
      "cell_type": "code",
      "source": "# Adittion operation\n170 + 235",
      "metadata": {
        "trusted": true
      },
      "outputs": [
        {
          "execution_count": 12,
          "output_type": "execute_result",
          "data": {
            "text/plain": "405"
          },
          "metadata": {}
        }
      ],
      "execution_count": 12
    },
    {
      "cell_type": "code",
      "source": "# Multiplication operation\n25 * 50",
      "metadata": {
        "trusted": true
      },
      "outputs": [
        {
          "execution_count": 14,
          "output_type": "execute_result",
          "data": {
            "text/plain": "1250"
          },
          "metadata": {}
        }
      ],
      "execution_count": 14
    },
    {
      "cell_type": "code",
      "source": "# Adittion and multuplication operation\n(157 + 143) * 2",
      "metadata": {
        "trusted": true
      },
      "outputs": [
        {
          "execution_count": 17,
          "output_type": "execute_result",
          "data": {
            "text/plain": "600"
          },
          "metadata": {}
        }
      ],
      "execution_count": 17
    },
    {
      "cell_type": "markdown",
      "source": "Also, using the code cell it's possible to convert minutes to hours.",
      "metadata": {}
    },
    {
      "cell_type": "code",
      "source": "# Convert minutes to hours\nminute = int(180)\nresult = (minute * 1) / 60\nprint(minute, \"minutes is:\", result, \"hours\")",
      "metadata": {
        "trusted": true
      },
      "outputs": [
        {
          "name": "stdout",
          "text": "180 minutes is: 3.0 hours\n",
          "output_type": "stream"
        }
      ],
      "execution_count": 45
    },
    {
      "cell_type": "markdown",
      "source": "It can also be used to list objects.",
      "metadata": {}
    },
    {
      "cell_type": "code",
      "source": "name = \"Bruno Baeza\"\nprint(list(name))",
      "metadata": {
        "trusted": true
      },
      "outputs": [
        {
          "name": "stdout",
          "text": "['B', 'r', 'u', 'n', 'o', ' ', 'B', 'a', 'e', 'z', 'a']\n",
          "output_type": "stream"
        }
      ],
      "execution_count": 66
    },
    {
      "cell_type": "markdown",
      "source": "Autor: Bruno Baeza",
      "metadata": {}
    }
  ]
}